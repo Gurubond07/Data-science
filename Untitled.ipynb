{
 "cells": [
  {
   "cell_type": "code",
   "execution_count": 1,
   "id": "eab064c2-bc7f-4b45-90c1-6188795fd64d",
   "metadata": {},
   "outputs": [
    {
     "name": "stdout",
     "output_type": "stream",
     "text": [
      "Hello World\n"
     ]
    }
   ],
   "source": [
    "print(\"Hello World\")"
   ]
  },
  {
   "cell_type": "code",
   "execution_count": 1,
   "id": "e36148c6-267c-45be-9fd2-4104c466dfd1",
   "metadata": {},
   "outputs": [
    {
     "name": "stdout",
     "output_type": "stream",
     "text": [
      "My Name is Gurpreet Shakya\n"
     ]
    }
   ],
   "source": [
    "print (\"My Name is Gurpreet Shakya\")\n"
   ]
  },
  {
   "cell_type": "code",
   "execution_count": 2,
   "id": "668a99e0-b723-41ea-a5cb-f1d4310eb235",
   "metadata": {},
   "outputs": [
    {
     "data": {
      "text/plain": [
       "110"
      ]
     },
     "execution_count": 2,
     "metadata": {},
     "output_type": "execute_result"
    }
   ],
   "source": [
    "34+76"
   ]
  },
  {
   "cell_type": "code",
   "execution_count": null,
   "id": "6534a37f-97b8-4280-b06b-948bb9c58168",
   "metadata": {},
   "outputs": [],
   "source": []
  },
  {
   "cell_type": "code",
   "execution_count": 5,
   "id": "1882c80d-9fc5-4fce-9846-af8aa2300ce2",
   "metadata": {},
   "outputs": [
    {
     "data": {
      "text/plain": [
       "8567"
      ]
     },
     "execution_count": 5,
     "metadata": {},
     "output_type": "execute_result"
    }
   ],
   "source": [
    "45+8522\n"
   ]
  },
  {
   "cell_type": "markdown",
   "id": "08456018-40dc-477b-ae4a-866db02d0f6e",
   "metadata": {},
   "source": [
    "65-64"
   ]
  },
  {
   "cell_type": "markdown",
   "id": "223cb257-4af6-4e01-8d19-a2bcb6973799",
   "metadata": {},
   "source": [
    "jyfjf"
   ]
  },
  {
   "cell_type": "code",
   "execution_count": null,
   "id": "b8257499-a65a-4149-b336-e34a6e732752",
   "metadata": {},
   "outputs": [],
   "source": []
  }
 ],
 "metadata": {
  "kernelspec": {
   "display_name": "Python 3 (ipykernel)",
   "language": "python",
   "name": "python3"
  },
  "language_info": {
   "codemirror_mode": {
    "name": "ipython",
    "version": 3
   },
   "file_extension": ".py",
   "mimetype": "text/x-python",
   "name": "python",
   "nbconvert_exporter": "python",
   "pygments_lexer": "ipython3",
   "version": "3.11.7"
  }
 },
 "nbformat": 4,
 "nbformat_minor": 5
}
